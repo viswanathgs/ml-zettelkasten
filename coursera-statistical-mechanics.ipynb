{
 "cells": [
  {
   "cell_type": "markdown",
   "id": "490b9a20",
   "metadata": {},
   "source": [
    "# [Statistical Mechanics: Algorithms and Computations](https://www.coursera.org/learn/statistical-mechanics)\n",
    "\n",
    "- **Created**: 2025-10-19\n",
    "- **Last Updated**: 2025-10-19\n",
    "- **Status**: `In Progress`"
   ]
  },
  {
   "cell_type": "markdown",
   "id": "ab0c5fd6",
   "metadata": {},
   "source": [
    "## Module 1: Monte Carlo algorithms (Direct sampling, Markov-chain sampling)\n",
    "\n",
    "### Lecture 1: Introduction to Monte Carlo algorithms\n",
    "\n",
    "- **Direct Sampling Monte Carlo**: Directly sampled from a target distribution i.i.d.\n",
    "- **Metropolis-Hastings Markov-Chain Monte Carlo**: \n",
    "\n",
    "Computing $\\pi$ via Monte Carlo simulation of throwing darts onto a circle of radius 1 tightly embedded within a square. "
   ]
  },
  {
   "cell_type": "code",
   "execution_count": null,
   "id": "ff456bde",
   "metadata": {},
   "outputs": [
    {
     "data": {
      "text/html": [
       "<div>\n",
       "<style scoped>\n",
       "    .dataframe tbody tr th:only-of-type {\n",
       "        vertical-align: middle;\n",
       "    }\n",
       "\n",
       "    .dataframe tbody tr th {\n",
       "        vertical-align: top;\n",
       "    }\n",
       "\n",
       "    .dataframe thead th {\n",
       "        text-align: right;\n",
       "    }\n",
       "</style>\n",
       "<table border=\"1\" class=\"dataframe\">\n",
       "  <thead>\n",
       "    <tr style=\"text-align: right;\">\n",
       "      <th></th>\n",
       "      <th>num_trials</th>\n",
       "      <th>pi</th>\n",
       "    </tr>\n",
       "  </thead>\n",
       "  <tbody>\n",
       "    <tr>\n",
       "      <th>0</th>\n",
       "      <td>10</td>\n",
       "      <td>2.00000</td>\n",
       "    </tr>\n",
       "    <tr>\n",
       "      <th>1</th>\n",
       "      <td>100</td>\n",
       "      <td>3.20000</td>\n",
       "    </tr>\n",
       "    <tr>\n",
       "      <th>2</th>\n",
       "      <td>1000</td>\n",
       "      <td>3.16800</td>\n",
       "    </tr>\n",
       "    <tr>\n",
       "      <th>3</th>\n",
       "      <td>10000</td>\n",
       "      <td>3.15440</td>\n",
       "    </tr>\n",
       "    <tr>\n",
       "      <th>4</th>\n",
       "      <td>100000</td>\n",
       "      <td>3.13236</td>\n",
       "    </tr>\n",
       "  </tbody>\n",
       "</table>\n",
       "</div>"
      ],
      "text/plain": [
       "   num_trials       pi\n",
       "0          10  2.00000\n",
       "1         100  3.20000\n",
       "2        1000  3.16800\n",
       "3       10000  3.15440\n",
       "4      100000  3.13236"
      ]
     },
     "execution_count": 24,
     "metadata": {},
     "output_type": "execute_result"
    }
   ],
   "source": [
    "import numpy as np\n",
    "\n",
    "np.random.seed(1701)\n",
    "\n",
    "# Direct sampling Monte Carlo simulation\n",
    "def pi_monte_carlo_direct_sampling(num_trials: int = 1000) -> float:\n",
    "    # Circle of radius 1 centered at (0,0). Square will have a side length of 2.\n",
    "    # Area of circle = pi * 1^2 = pi\n",
    "    # Area of square = 2^2 = 4\n",
    "    within_circle: int = 0\n",
    "    for _ in range(num_trials):\n",
    "        # Randomly throw a dart within the square\n",
    "        x = np.random.uniform(-1.0, 1.0)\n",
    "        y = np.random.uniform(-1.0, 1.0)\n",
    "        \n",
    "        # Dart falls within the circle if its distance from the origin is <= circle's radius\n",
    "        within_circle += (x**2 + y**2 <= 1)\n",
    "    \n",
    "    # pi/4 = within_circle/num_trials\n",
    "    pi = within_circle / num_trials * 4\n",
    "    return pi\n",
    "\n",
    "pd.DataFrame.from_records(\n",
    "  {\n",
    "      \"num_trials\": num_trials,\n",
    "      \"pi\": monte_carlo_pi(num_trials),\n",
    "  }\n",
    "  for num_trials in [10, 100, 1000, 10000, 100000]\n",
    ")"
   ]
  },
  {
   "cell_type": "code",
   "execution_count": null,
   "id": "f27bbef2",
   "metadata": {},
   "outputs": [],
   "source": []
  }
 ],
 "metadata": {
  "kernelspec": {
   "display_name": "emg2qwerty",
   "language": "python",
   "name": "python3"
  },
  "language_info": {
   "codemirror_mode": {
    "name": "ipython",
    "version": 3
   },
   "file_extension": ".py",
   "mimetype": "text/x-python",
   "name": "python",
   "nbconvert_exporter": "python",
   "pygments_lexer": "ipython3",
   "version": "3.10.13"
  }
 },
 "nbformat": 4,
 "nbformat_minor": 5
}
