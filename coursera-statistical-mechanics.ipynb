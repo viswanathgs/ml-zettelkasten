{
 "cells": [
  {
   "cell_type": "markdown",
   "id": "490b9a20",
   "metadata": {},
   "source": [
    "# [Statistical Mechanics: Algorithms and Computations](https://www.coursera.org/learn/statistical-mechanics)\n",
    "\n",
    "- **Created**: 2025-10-19\n",
    "- **Last Updated**: 2025-10-19\n",
    "- **Status**: `In Progress`"
   ]
  },
  {
   "cell_type": "markdown",
   "id": "ab0c5fd6",
   "metadata": {},
   "source": [
    "## Module 1: Monte Carlo algorithms (Direct sampling, Markov-chain sampling)\n",
    "\n",
    "### Lecture 1: Introduction to Monte Carlo algorithms\n",
    "\n",
    "Computing $\\pi$ via direct sampling Monte Carlo simulation by throwing a large number of darts randomly onto a circle of radius 1 tightly embedded within a square."
   ]
  },
  {
   "cell_type": "code",
   "execution_count": null,
   "id": "ff456bde",
   "metadata": {},
   "outputs": [
    {
     "name": "stdout",
     "output_type": "stream",
     "text": [
      "num_trials=10 pi=2.8\n",
      "num_trials=100 pi=3.04\n",
      "num_trials=1000 pi=3.18\n",
      "num_trials=10000 pi=3.1432\n",
      "num_trials=100000 pi=3.149\n"
     ]
    }
   ],
   "source": [
    "import numpy as np\n",
    "\n",
    "def monte_carlo_pi(num_trials: int = 1000) -> float:\n",
    "    # Circle of radius 1 centered at (0,0). Square will have a side length of 2.\n",
    "    # Area of circle = pi * 1^2 = pi\n",
    "    # Area of square = 2^2 = 4\n",
    "    within_circle: int = 0\n",
    "    for _ in range(num_trials):\n",
    "        # Randomly throw a dart within the square\n",
    "        x = np.random.uniform(-1.0, 1.0)\n",
    "        y = np.random.uniform(-1.0, 1.0)\n",
    "        \n",
    "        # Dart falls within the circle if its distance from the origin is <= circle's radius\n",
    "        within_circle += (x**2 + y**2 <= 1)\n",
    "    \n",
    "    # pi/4 = within_circle/num_trials\n",
    "    pi = within_circle / num_trials * 4\n",
    "    return pi\n",
    "  \n",
    "for num_trials in [10, 100, 1000, 10000, 100000]:\n",
    "    pi = monte_carlo_pi(num_trials)\n",
    "    print(f\"{num_trials=} pi={pi}\")\n",
    "        "
   ]
  },
  {
   "cell_type": "code",
   "execution_count": null,
   "id": "f27bbef2",
   "metadata": {},
   "outputs": [],
   "source": []
  }
 ],
 "metadata": {
  "kernelspec": {
   "display_name": "emg2qwerty",
   "language": "python",
   "name": "python3"
  },
  "language_info": {
   "codemirror_mode": {
    "name": "ipython",
    "version": 3
   },
   "file_extension": ".py",
   "mimetype": "text/x-python",
   "name": "python",
   "nbconvert_exporter": "python",
   "pygments_lexer": "ipython3",
   "version": "3.10.13"
  }
 },
 "nbformat": 4,
 "nbformat_minor": 5
}
